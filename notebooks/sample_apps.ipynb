{
 "cells": [
  {
   "cell_type": "code",
   "execution_count": 1,
   "metadata": {
    "ExecuteTime": {
     "end_time": "2023-12-01T09:39:24.856965283Z",
     "start_time": "2023-12-01T09:39:24.393979796Z"
    }
   },
   "outputs": [
    {
     "name": "stdout",
     "output_type": "stream",
     "text": [
      "/home/idan/Documents/llm_workshop/data/sample_apps.parquet\n"
     ]
    }
   ],
   "source": [
    "import sys, json\n",
    "import pandas as pd\n",
    "from pathlib import Path\n",
    "from IPython.display import HTML, display\n",
    "from decouple import config\n",
    "sys.path.append(\"../src/\")\n",
    "from llm_helpers import chatgpt_ask\n",
    "\n",
    "pd.set_option('display.max_columns', 1000, 'display.width', 1000, 'display.max_rows',1000)\n",
    "\n",
    "data_dir = Path(\".\").absolute().parent/\"data\"\n",
    "ls = lambda p:print(\"\\n\".join(map(str,p.iterdir())))\n",
    "\n",
    "ls(data_dir)"
   ]
  },
  {
   "cell_type": "code",
   "execution_count": 2,
   "metadata": {
    "ExecuteTime": {
     "end_time": "2023-12-01T09:39:24.910410386Z",
     "start_time": "2023-12-01T09:39:24.848568868Z"
    }
   },
   "outputs": [
    {
     "data": {
      "text/plain": "                                   bundle_id                           title                                        description                                          store_url                category_names    ios\n26290            com.hwqgrhhjfd.idlefastfood                      Eatventure  Are you looking to become a restaurant million...  https://play.google.com/store/apps/details?id=...          GAME_SIMULATION,GAME  False\n56776                     io.randomco.travel   Travel Town - Merge Adventure  Explore Travel Town, where you can combine eve...  https://play.google.com/store/apps/details?id=...              GAME_PUZZLE,GAME  False\n3393                              1317978215  Color by Number：Coloring Games  Color by number in this new addictive game. Ch...  https://apps.apple.com/us/app/color-by-number-...           Entertainment,Books   True\n29751                com.king.candycrushsaga                Candy Crush Saga  Master the legendary match 3 puzzle game from ...  https://play.google.com/store/apps/details?id=...              GAME_CASUAL,GAME  False\n383    air.com.buffalo_studios.newflashbingo     Bingo Blitz™️ - Bingo Games  Experience your free online bingo game as you ...  https://play.google.com/store/apps/details?id=...               GAME_BOARD,GAME  False\n56472                 in.playsimple.wordtrip                       Word Trip  WINNER OF THE PRESTIGIOUS ACADEMICS' CHOICE MI...  https://play.google.com/store/apps/details?id=...                GAME_WORD,GAME  False\n1373                              1138264921    Match Masters ‎- PvP Match 3  Match 3 games - reinvented! Now with online mu...  https://apps.apple.com/us/app/match-masters-pv...           Games,Casual,Puzzle   True\n24041                 com.grabtaxi.passenger                   Grab Superapp  Grab is Southeast Asia’s leading superapp. We ...  https://play.google.com/store/apps/details?id=...  TRAVEL_AND_LOCAL,APPLICATION  False\n59980                net.peakgames.toonblast                      Toon Blast  From the creators of Toy Blast comes the ultim...  https://play.google.com/store/apps/details?id=...              GAME_PUZZLE,GAME  False",
      "text/html": "<div>\n<style scoped>\n    .dataframe tbody tr th:only-of-type {\n        vertical-align: middle;\n    }\n\n    .dataframe tbody tr th {\n        vertical-align: top;\n    }\n\n    .dataframe thead th {\n        text-align: right;\n    }\n</style>\n<table border=\"1\" class=\"dataframe\">\n  <thead>\n    <tr style=\"text-align: right;\">\n      <th></th>\n      <th>bundle_id</th>\n      <th>title</th>\n      <th>description</th>\n      <th>store_url</th>\n      <th>category_names</th>\n      <th>ios</th>\n    </tr>\n  </thead>\n  <tbody>\n    <tr>\n      <th>26290</th>\n      <td>com.hwqgrhhjfd.idlefastfood</td>\n      <td>Eatventure</td>\n      <td>Are you looking to become a restaurant million...</td>\n      <td>https://play.google.com/store/apps/details?id=...</td>\n      <td>GAME_SIMULATION,GAME</td>\n      <td>False</td>\n    </tr>\n    <tr>\n      <th>56776</th>\n      <td>io.randomco.travel</td>\n      <td>Travel Town - Merge Adventure</td>\n      <td>Explore Travel Town, where you can combine eve...</td>\n      <td>https://play.google.com/store/apps/details?id=...</td>\n      <td>GAME_PUZZLE,GAME</td>\n      <td>False</td>\n    </tr>\n    <tr>\n      <th>3393</th>\n      <td>1317978215</td>\n      <td>Color by Number：Coloring Games</td>\n      <td>Color by number in this new addictive game. Ch...</td>\n      <td>https://apps.apple.com/us/app/color-by-number-...</td>\n      <td>Entertainment,Books</td>\n      <td>True</td>\n    </tr>\n    <tr>\n      <th>29751</th>\n      <td>com.king.candycrushsaga</td>\n      <td>Candy Crush Saga</td>\n      <td>Master the legendary match 3 puzzle game from ...</td>\n      <td>https://play.google.com/store/apps/details?id=...</td>\n      <td>GAME_CASUAL,GAME</td>\n      <td>False</td>\n    </tr>\n    <tr>\n      <th>383</th>\n      <td>air.com.buffalo_studios.newflashbingo</td>\n      <td>Bingo Blitz™️ - Bingo Games</td>\n      <td>Experience your free online bingo game as you ...</td>\n      <td>https://play.google.com/store/apps/details?id=...</td>\n      <td>GAME_BOARD,GAME</td>\n      <td>False</td>\n    </tr>\n    <tr>\n      <th>56472</th>\n      <td>in.playsimple.wordtrip</td>\n      <td>Word Trip</td>\n      <td>WINNER OF THE PRESTIGIOUS ACADEMICS' CHOICE MI...</td>\n      <td>https://play.google.com/store/apps/details?id=...</td>\n      <td>GAME_WORD,GAME</td>\n      <td>False</td>\n    </tr>\n    <tr>\n      <th>1373</th>\n      <td>1138264921</td>\n      <td>Match Masters ‎- PvP Match 3</td>\n      <td>Match 3 games - reinvented! Now with online mu...</td>\n      <td>https://apps.apple.com/us/app/match-masters-pv...</td>\n      <td>Games,Casual,Puzzle</td>\n      <td>True</td>\n    </tr>\n    <tr>\n      <th>24041</th>\n      <td>com.grabtaxi.passenger</td>\n      <td>Grab Superapp</td>\n      <td>Grab is Southeast Asia’s leading superapp. We ...</td>\n      <td>https://play.google.com/store/apps/details?id=...</td>\n      <td>TRAVEL_AND_LOCAL,APPLICATION</td>\n      <td>False</td>\n    </tr>\n    <tr>\n      <th>59980</th>\n      <td>net.peakgames.toonblast</td>\n      <td>Toon Blast</td>\n      <td>From the creators of Toy Blast comes the ultim...</td>\n      <td>https://play.google.com/store/apps/details?id=...</td>\n      <td>GAME_PUZZLE,GAME</td>\n      <td>False</td>\n    </tr>\n  </tbody>\n</table>\n</div>"
     },
     "execution_count": 2,
     "metadata": {},
     "output_type": "execute_result"
    }
   ],
   "source": [
    "df = pd.read_parquet(data_dir / \"sample_apps.parquet\").sample(9)\n",
    "df"
   ]
  },
  {
   "cell_type": "markdown",
   "metadata": {},
   "source": [
    "## Ask ChatGPT a question on every row"
   ]
  },
  {
   "cell_type": "code",
   "execution_count": 3,
   "metadata": {
    "ExecuteTime": {
     "end_time": "2023-12-01T09:39:37.735919888Z",
     "start_time": "2023-12-01T09:39:24.905863305Z"
    }
   },
   "outputs": [
    {
     "data": {
      "text/plain": "                                   bundle_id                           title                                        description                                          store_url                category_names    ios for_kids\n26290            com.hwqgrhhjfd.idlefastfood                      Eatventure  Are you looking to become a restaurant million...  https://play.google.com/store/apps/details?id=...          GAME_SIMULATION,GAME  False      No.\n56776                     io.randomco.travel   Travel Town - Merge Adventure  Explore Travel Town, where you can combine eve...  https://play.google.com/store/apps/details?id=...              GAME_PUZZLE,GAME  False      Yes\n3393                              1317978215  Color by Number：Coloring Games  Color by number in this new addictive game. Ch...  https://apps.apple.com/us/app/color-by-number-...           Entertainment,Books   True     Yes.\n29751                com.king.candycrushsaga                Candy Crush Saga  Master the legendary match 3 puzzle game from ...  https://play.google.com/store/apps/details?id=...              GAME_CASUAL,GAME  False      Yes\n383    air.com.buffalo_studios.newflashbingo     Bingo Blitz™️ - Bingo Games  Experience your free online bingo game as you ...  https://play.google.com/store/apps/details?id=...               GAME_BOARD,GAME  False       No\n56472                 in.playsimple.wordtrip                       Word Trip  WINNER OF THE PRESTIGIOUS ACADEMICS' CHOICE MI...  https://play.google.com/store/apps/details?id=...                GAME_WORD,GAME  False      No.\n1373                              1138264921    Match Masters ‎- PvP Match 3  Match 3 games - reinvented! Now with online mu...  https://apps.apple.com/us/app/match-masters-pv...           Games,Casual,Puzzle   True      Yes\n24041                 com.grabtaxi.passenger                   Grab Superapp  Grab is Southeast Asia’s leading superapp. We ...  https://play.google.com/store/apps/details?id=...  TRAVEL_AND_LOCAL,APPLICATION  False      No.\n59980                net.peakgames.toonblast                      Toon Blast  From the creators of Toy Blast comes the ultim...  https://play.google.com/store/apps/details?id=...              GAME_PUZZLE,GAME  False      Yes",
      "text/html": "<div>\n<style scoped>\n    .dataframe tbody tr th:only-of-type {\n        vertical-align: middle;\n    }\n\n    .dataframe tbody tr th {\n        vertical-align: top;\n    }\n\n    .dataframe thead th {\n        text-align: right;\n    }\n</style>\n<table border=\"1\" class=\"dataframe\">\n  <thead>\n    <tr style=\"text-align: right;\">\n      <th></th>\n      <th>bundle_id</th>\n      <th>title</th>\n      <th>description</th>\n      <th>store_url</th>\n      <th>category_names</th>\n      <th>ios</th>\n      <th>for_kids</th>\n    </tr>\n  </thead>\n  <tbody>\n    <tr>\n      <th>26290</th>\n      <td>com.hwqgrhhjfd.idlefastfood</td>\n      <td>Eatventure</td>\n      <td>Are you looking to become a restaurant million...</td>\n      <td>https://play.google.com/store/apps/details?id=...</td>\n      <td>GAME_SIMULATION,GAME</td>\n      <td>False</td>\n      <td>No.</td>\n    </tr>\n    <tr>\n      <th>56776</th>\n      <td>io.randomco.travel</td>\n      <td>Travel Town - Merge Adventure</td>\n      <td>Explore Travel Town, where you can combine eve...</td>\n      <td>https://play.google.com/store/apps/details?id=...</td>\n      <td>GAME_PUZZLE,GAME</td>\n      <td>False</td>\n      <td>Yes</td>\n    </tr>\n    <tr>\n      <th>3393</th>\n      <td>1317978215</td>\n      <td>Color by Number：Coloring Games</td>\n      <td>Color by number in this new addictive game. Ch...</td>\n      <td>https://apps.apple.com/us/app/color-by-number-...</td>\n      <td>Entertainment,Books</td>\n      <td>True</td>\n      <td>Yes.</td>\n    </tr>\n    <tr>\n      <th>29751</th>\n      <td>com.king.candycrushsaga</td>\n      <td>Candy Crush Saga</td>\n      <td>Master the legendary match 3 puzzle game from ...</td>\n      <td>https://play.google.com/store/apps/details?id=...</td>\n      <td>GAME_CASUAL,GAME</td>\n      <td>False</td>\n      <td>Yes</td>\n    </tr>\n    <tr>\n      <th>383</th>\n      <td>air.com.buffalo_studios.newflashbingo</td>\n      <td>Bingo Blitz™️ - Bingo Games</td>\n      <td>Experience your free online bingo game as you ...</td>\n      <td>https://play.google.com/store/apps/details?id=...</td>\n      <td>GAME_BOARD,GAME</td>\n      <td>False</td>\n      <td>No</td>\n    </tr>\n    <tr>\n      <th>56472</th>\n      <td>in.playsimple.wordtrip</td>\n      <td>Word Trip</td>\n      <td>WINNER OF THE PRESTIGIOUS ACADEMICS' CHOICE MI...</td>\n      <td>https://play.google.com/store/apps/details?id=...</td>\n      <td>GAME_WORD,GAME</td>\n      <td>False</td>\n      <td>No.</td>\n    </tr>\n    <tr>\n      <th>1373</th>\n      <td>1138264921</td>\n      <td>Match Masters ‎- PvP Match 3</td>\n      <td>Match 3 games - reinvented! Now with online mu...</td>\n      <td>https://apps.apple.com/us/app/match-masters-pv...</td>\n      <td>Games,Casual,Puzzle</td>\n      <td>True</td>\n      <td>Yes</td>\n    </tr>\n    <tr>\n      <th>24041</th>\n      <td>com.grabtaxi.passenger</td>\n      <td>Grab Superapp</td>\n      <td>Grab is Southeast Asia’s leading superapp. We ...</td>\n      <td>https://play.google.com/store/apps/details?id=...</td>\n      <td>TRAVEL_AND_LOCAL,APPLICATION</td>\n      <td>False</td>\n      <td>No.</td>\n    </tr>\n    <tr>\n      <th>59980</th>\n      <td>net.peakgames.toonblast</td>\n      <td>Toon Blast</td>\n      <td>From the creators of Toy Blast comes the ultim...</td>\n      <td>https://play.google.com/store/apps/details?id=...</td>\n      <td>GAME_PUZZLE,GAME</td>\n      <td>False</td>\n      <td>Yes</td>\n    </tr>\n  </tbody>\n</table>\n</div>"
     },
     "execution_count": 3,
     "metadata": {},
     "output_type": "execute_result"
    }
   ],
   "source": [
    "df[\"for_kids\"] = df.apply(chatgpt_ask(\"Given the app description:\\n{description}\\n\\nIs it for kids?\\nAnswer only yes or no\"),axis=1)\n",
    "df"
   ]
  },
  {
   "cell_type": "markdown",
   "metadata": {},
   "source": [
    "## Question:\n",
    "Please rewrite the code such that the response to a yes/no question would be boolean (`True` or `False`)"
   ]
  },
  {
   "cell_type": "code",
   "execution_count": 4,
   "metadata": {
    "ExecuteTime": {
     "end_time": "2023-12-01T09:39:46.333508138Z",
     "start_time": "2023-12-01T09:39:37.743967794Z"
    }
   },
   "outputs": [],
   "source": [
    "df[\"for_kids\"] = df.apply(chatgpt_ask(\"Given the app description:\\n{description}\\n\\nIs it for kids?\\nAnswer only yes or no\"),axis=1)\n",
    "df[\"for_kids\"] = df[\"for_kids\"].map({\"Yes\" : True, \"No\" : False})"
   ]
  }
 ],
 "metadata": {
  "kernelspec": {
   "display_name": "Python 3 (ipykernel)",
   "language": "python",
   "name": "python3"
  },
  "language_info": {
   "codemirror_mode": {
    "name": "ipython",
    "version": 3
   },
   "file_extension": ".py",
   "mimetype": "text/x-python",
   "name": "python",
   "nbconvert_exporter": "python",
   "pygments_lexer": "ipython3",
   "version": "3.11.5"
  }
 },
 "nbformat": 4,
 "nbformat_minor": 4
}
