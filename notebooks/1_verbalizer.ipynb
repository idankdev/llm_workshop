{
 "cells": [
  {
   "cell_type": "code",
   "execution_count": 1,
   "metadata": {
    "ExecuteTime": {
     "end_time": "2023-12-01T09:03:47.482318698Z",
     "start_time": "2023-12-01T09:03:46.994015590Z"
    }
   },
   "outputs": [
    {
     "name": "stdout",
     "output_type": "stream",
     "text": [
      "/home/idan/Documents/llm_workshop/data/sample_apps.parquet\n"
     ]
    }
   ],
   "source": [
    "import sys, json, re, collections\n",
    "import pandas as pd\n",
    "from pathlib import Path\n",
    "from decouple import config\n",
    "sys.path.append(\"../src/\")\n",
    "from llm_helpers import openai_client\n",
    "\n",
    "pd.set_option('display.max_columns', 1000, 'display.width', 1000, 'display.max_rows',1000)\n",
    "\n",
    "data_dir = Path(\".\").absolute().parent/\"data\"\n",
    "ls = lambda p:print(\"\\n\".join(map(str,p.iterdir())))\n",
    "\n",
    "ls(data_dir)"
   ]
  },
  {
   "cell_type": "code",
   "execution_count": 2,
   "metadata": {
    "ExecuteTime": {
     "end_time": "2023-12-01T09:03:47.547128734Z",
     "start_time": "2023-12-01T09:03:47.484099423Z"
    }
   },
   "outputs": [
    {
     "data": {
      "text/plain": "                                    bundle_id                           title                                        description                                          store_url                       category_names    ios\n7478   com.alibaba.intl.android.apps.poseidon   Alibaba.com - B2B marketplace  What is Alibaba.com?\\nAlibaba.com is one of th...  https://play.google.com/store/apps/details?id=...                 SHOPPING,APPLICATION  False\n508                                1058528141  War Machines：Tanks Combat Game  HELLO, COMMANDER ! \\nWELCOME TO WAR MACHINES, ...  https://apps.apple.com/us/app/war-machines-tan...  Games,Entertainment,Strategy,Action   True\n383     air.com.buffalo_studios.newflashbingo     Bingo Blitz™️ - Bingo Games  Experience your free online bingo game as you ...  https://play.google.com/store/apps/details?id=...                      GAME_BOARD,GAME  False\n39810                com.playrix.gardenscapes                    Gardenscapes  Welcome to Gardenscapes—the first hit from Pla...  https://play.google.com/store/apps/details?id=...                     GAME_CASUAL,GAME  False\n10617                 com.audible.application    Audible: Audio Entertainment  Listen to books while relaxing by the fire or ...  https://play.google.com/store/apps/details?id=...      BOOKS_AND_REFERENCE,APPLICATION  False\n1373                               1138264921    Match Masters ‎- PvP Match 3  Match 3 games - reinvented! Now with online mu...  https://apps.apple.com/us/app/match-masters-pv...                  Games,Casual,Puzzle   True\n51356                     com.walmart.android      Walmart Shopping & Grocery  Save money. Live better.\\n\\nThe Walmart app is...  https://play.google.com/store/apps/details?id=...                 SHOPPING,APPLICATION  False\n29752             com.king.candycrushsodasaga           Candy Crush Soda Saga  You loved playing Candy Crush Saga - Start pla...  https://play.google.com/store/apps/details?id=...                     GAME_CASUAL,GAME  False\n13376                          com.bumble.app  Bumble - Dating. Friends. Bizz  Millions of people have signed up to Bumble to...  https://play.google.com/store/apps/details?id=...                   DATING,APPLICATION  False",
      "text/html": "<div>\n<style scoped>\n    .dataframe tbody tr th:only-of-type {\n        vertical-align: middle;\n    }\n\n    .dataframe tbody tr th {\n        vertical-align: top;\n    }\n\n    .dataframe thead th {\n        text-align: right;\n    }\n</style>\n<table border=\"1\" class=\"dataframe\">\n  <thead>\n    <tr style=\"text-align: right;\">\n      <th></th>\n      <th>bundle_id</th>\n      <th>title</th>\n      <th>description</th>\n      <th>store_url</th>\n      <th>category_names</th>\n      <th>ios</th>\n    </tr>\n  </thead>\n  <tbody>\n    <tr>\n      <th>7478</th>\n      <td>com.alibaba.intl.android.apps.poseidon</td>\n      <td>Alibaba.com - B2B marketplace</td>\n      <td>What is Alibaba.com?\\nAlibaba.com is one of th...</td>\n      <td>https://play.google.com/store/apps/details?id=...</td>\n      <td>SHOPPING,APPLICATION</td>\n      <td>False</td>\n    </tr>\n    <tr>\n      <th>508</th>\n      <td>1058528141</td>\n      <td>War Machines：Tanks Combat Game</td>\n      <td>HELLO, COMMANDER ! \\nWELCOME TO WAR MACHINES, ...</td>\n      <td>https://apps.apple.com/us/app/war-machines-tan...</td>\n      <td>Games,Entertainment,Strategy,Action</td>\n      <td>True</td>\n    </tr>\n    <tr>\n      <th>383</th>\n      <td>air.com.buffalo_studios.newflashbingo</td>\n      <td>Bingo Blitz™️ - Bingo Games</td>\n      <td>Experience your free online bingo game as you ...</td>\n      <td>https://play.google.com/store/apps/details?id=...</td>\n      <td>GAME_BOARD,GAME</td>\n      <td>False</td>\n    </tr>\n    <tr>\n      <th>39810</th>\n      <td>com.playrix.gardenscapes</td>\n      <td>Gardenscapes</td>\n      <td>Welcome to Gardenscapes—the first hit from Pla...</td>\n      <td>https://play.google.com/store/apps/details?id=...</td>\n      <td>GAME_CASUAL,GAME</td>\n      <td>False</td>\n    </tr>\n    <tr>\n      <th>10617</th>\n      <td>com.audible.application</td>\n      <td>Audible: Audio Entertainment</td>\n      <td>Listen to books while relaxing by the fire or ...</td>\n      <td>https://play.google.com/store/apps/details?id=...</td>\n      <td>BOOKS_AND_REFERENCE,APPLICATION</td>\n      <td>False</td>\n    </tr>\n    <tr>\n      <th>1373</th>\n      <td>1138264921</td>\n      <td>Match Masters ‎- PvP Match 3</td>\n      <td>Match 3 games - reinvented! Now with online mu...</td>\n      <td>https://apps.apple.com/us/app/match-masters-pv...</td>\n      <td>Games,Casual,Puzzle</td>\n      <td>True</td>\n    </tr>\n    <tr>\n      <th>51356</th>\n      <td>com.walmart.android</td>\n      <td>Walmart Shopping &amp; Grocery</td>\n      <td>Save money. Live better.\\n\\nThe Walmart app is...</td>\n      <td>https://play.google.com/store/apps/details?id=...</td>\n      <td>SHOPPING,APPLICATION</td>\n      <td>False</td>\n    </tr>\n    <tr>\n      <th>29752</th>\n      <td>com.king.candycrushsodasaga</td>\n      <td>Candy Crush Soda Saga</td>\n      <td>You loved playing Candy Crush Saga - Start pla...</td>\n      <td>https://play.google.com/store/apps/details?id=...</td>\n      <td>GAME_CASUAL,GAME</td>\n      <td>False</td>\n    </tr>\n    <tr>\n      <th>13376</th>\n      <td>com.bumble.app</td>\n      <td>Bumble - Dating. Friends. Bizz</td>\n      <td>Millions of people have signed up to Bumble to...</td>\n      <td>https://play.google.com/store/apps/details?id=...</td>\n      <td>DATING,APPLICATION</td>\n      <td>False</td>\n    </tr>\n  </tbody>\n</table>\n</div>"
     },
     "execution_count": 2,
     "metadata": {},
     "output_type": "execute_result"
    }
   ],
   "source": [
    "df = pd.read_parquet(data_dir / \"sample_apps.parquet\").sample(9)\n",
    "df"
   ]
  },
  {
   "cell_type": "markdown",
   "metadata": {},
   "source": [
    "## Asking OpenAI directly?"
   ]
  },
  {
   "cell_type": "code",
   "execution_count": 3,
   "metadata": {
    "ExecuteTime": {
     "end_time": "2023-12-01T09:03:48.363952130Z",
     "start_time": "2023-12-01T09:03:47.549843911Z"
    }
   },
   "outputs": [
    {
     "data": {
      "text/plain": "['yes, a dog is a mammal.']"
     },
     "execution_count": 3,
     "metadata": {},
     "output_type": "execute_result"
    }
   ],
   "source": [
    "def openai_ask(prompts):\n",
    "    response = openai_client.completions.create(\n",
    "        model=\"text-davinci-003\",\n",
    "        prompt=prompts,\n",
    "    )\n",
    "    ret = [choice.text.strip().lower() for choice in response.choices]\n",
    "    return ret\n",
    "\n",
    "openai_ask(\"Is a dog a mammal?\")"
   ]
  },
  {
   "cell_type": "code",
   "execution_count": 4,
   "metadata": {
    "ExecuteTime": {
     "end_time": "2023-12-01T09:03:48.980362676Z",
     "start_time": "2023-12-01T09:03:48.369773541Z"
    }
   },
   "outputs": [
    {
     "data": {
      "text/plain": "['yes']"
     },
     "execution_count": 4,
     "metadata": {},
     "output_type": "execute_result"
    }
   ],
   "source": [
    "openai_ask(\"Is a dog a mammal? answer yes or no\")"
   ]
  },
  {
   "cell_type": "markdown",
   "metadata": {},
   "source": [
    "## What about \"fuzzier\" questions?"
   ]
  },
  {
   "cell_type": "code",
   "execution_count": 5,
   "metadata": {
    "ExecuteTime": {
     "end_time": "2023-12-01T09:03:49.815300892Z",
     "start_time": "2023-12-01T09:03:48.983653193Z"
    }
   },
   "outputs": [
    {
     "data": {
      "text/plain": "['no. taking a loan should be a last resort when you are facing']"
     },
     "execution_count": 5,
     "metadata": {},
     "output_type": "execute_result"
    }
   ],
   "source": [
    "openai_ask(\"I'm facing financial troubles, should I take a loan?\")"
   ]
  },
  {
   "cell_type": "code",
   "execution_count": 6,
   "metadata": {
    "ExecuteTime": {
     "end_time": "2023-12-01T09:03:50.337338517Z",
     "start_time": "2023-12-01T09:03:49.806233291Z"
    }
   },
   "outputs": [
    {
     "data": {
      "text/plain": "['no']"
     },
     "execution_count": 6,
     "metadata": {},
     "output_type": "execute_result"
    }
   ],
   "source": [
    "openai_ask(\"I'm facing financial troubles, should I take a loan? answer yes or no\")"
   ]
  },
  {
   "cell_type": "code",
   "execution_count": 7,
   "metadata": {
    "ExecuteTime": {
     "end_time": "2023-12-01T09:03:51.025235612Z",
     "start_time": "2023-12-01T09:03:50.332026274Z"
    }
   },
   "outputs": [
    {
     "data": {
      "text/plain": "['no']"
     },
     "execution_count": 7,
     "metadata": {},
     "output_type": "execute_result"
    }
   ],
   "source": [
    "openai_ask(\"I'm facing financial troubles, should I take a loan? answer yes or no\")"
   ]
  },
  {
   "cell_type": "code",
   "execution_count": 8,
   "metadata": {
    "ExecuteTime": {
     "end_time": "2023-12-01T09:03:51.777342854Z",
     "start_time": "2023-12-01T09:03:51.034866687Z"
    }
   },
   "outputs": [
    {
     "data": {
      "text/plain": "['no. taking a loan can make your financial situation worse, especially if']"
     },
     "execution_count": 8,
     "metadata": {},
     "output_type": "execute_result"
    }
   ],
   "source": [
    "openai_ask(\"I'm facing financial troubles, should I take a loan? answer yes or no\")"
   ]
  },
  {
   "cell_type": "markdown",
   "metadata": {},
   "source": [
    "## Popular approach: Retry"
   ]
  },
  {
   "cell_type": "code",
   "execution_count": 9,
   "metadata": {
    "ExecuteTime": {
     "end_time": "2023-12-01T09:03:53.053311532Z",
     "start_time": "2023-12-01T09:03:51.775239191Z"
    }
   },
   "outputs": [
    {
     "data": {
      "text/plain": "(2, False)"
     },
     "execution_count": 9,
     "metadata": {},
     "output_type": "execute_result"
    }
   ],
   "source": [
    "def yes_no_or_retry(prompt):\n",
    "    i=0\n",
    "    answer = \"\"\n",
    "    while answer not in {\"yes\", \"no\"}:\n",
    "        answer = openai_ask(prompt)[0].lower()\n",
    "        i+=1\n",
    "    return i, answer==\"yes\"\n",
    "\n",
    "yes_no_or_retry(\"I'm facing financial troubles, should I take a loan? answer yes or no\")"
   ]
  },
  {
   "cell_type": "markdown",
   "metadata": {},
   "source": [
    "As we can see, the answer is not always a valid choise \"yes\" or \"no\"\n",
    "# Introducing verbalizers:\n",
    "\n",
    "## Verbalizers in a sentence:\n",
    "\n",
    "Mapping a **class** to a **token**, and then choosing the token with the highest logit\n",
    "## The OpenAI tokenizer\n",
    "\n",
    "https://platform.openai.com/tokenizer"
   ]
  },
  {
   "cell_type": "code",
   "execution_count": 22,
   "metadata": {
    "ExecuteTime": {
     "end_time": "2023-12-01T09:23:53.590924862Z",
     "start_time": "2023-12-01T09:23:53.174613168Z"
    }
   },
   "outputs": [
    {
     "data": {
      "text/plain": "[True]"
     },
     "execution_count": 22,
     "metadata": {},
     "output_type": "execute_result"
    }
   ],
   "source": [
    "YES_TOKEN = frozenset([5297, 3763, 3363, 8505, 3363, 3763, 43335, 3763, 21560])\n",
    "GPT3_YES_TOKEN = frozenset([9642, 14410, 10035, 7566, 14331, 9891])\n",
    "NO_TOKEN = frozenset([2949, 645, 1400, 3919, 1400, 645, 15285, 645, 8005])\n",
    "GPT3_NO_TOKEN = frozenset([2822, 5782, 912, 2201, 9173, 2360])\n",
    "\n",
    "\n",
    "def openai_yes_or_no(prompts):\n",
    "    response = openai_client.completions.create(\n",
    "        model=\"text-davinci-003\",\n",
    "        prompt=prompts,\n",
    "        temperature=0.7,\n",
    "        logit_bias={t: 100 for t in YES_TOKEN | NO_TOKEN},\n",
    "        max_tokens=1,\n",
    "    )\n",
    "    ret = [choice.text.strip().lower() == \"yes\" for choice in response.choices]\n",
    "    return ret\n",
    "\n",
    "openai_yes_or_no(\"Is dog a mammal?\")\n"
   ]
  },
  {
   "cell_type": "code",
   "execution_count": 11,
   "metadata": {
    "ExecuteTime": {
     "end_time": "2023-12-01T09:03:53.827087605Z",
     "start_time": "2023-12-01T09:03:53.513751171Z"
    }
   },
   "outputs": [
    {
     "data": {
      "text/plain": "[False]"
     },
     "execution_count": 11,
     "metadata": {},
     "output_type": "execute_result"
    }
   ],
   "source": [
    "openai_yes_or_no(\"I'm facing financial troubles, should I take a loan? answer yes or no\")"
   ]
  },
  {
   "cell_type": "code",
   "execution_count": 12,
   "metadata": {
    "ExecuteTime": {
     "end_time": "2023-12-01T09:03:54.307250650Z",
     "start_time": "2023-12-01T09:03:53.828763226Z"
    }
   },
   "outputs": [
    {
     "data": {
      "text/plain": "Counter({False: 10})"
     },
     "execution_count": 12,
     "metadata": {},
     "output_type": "execute_result"
    }
   ],
   "source": [
    "prompt = \"I'm facing financial troubles, should I take a loan? answer yes or no\"\n",
    "prompts = [prompt]*10\n",
    "answers = openai_yes_or_no(prompts)\n",
    "collections.Counter(answers)"
   ]
  },
  {
   "cell_type": "markdown",
   "metadata": {},
   "source": [
    "## Question:\n",
    "Ask the following questions for each app\n",
    "1. Is the app for kids?\n",
    "2. Is the app a shopping app?\n",
    "3. Is it a game?\n",
    "4. Is this app a dating app?\n",
    "5. Does this app have in-app purchases?\n",
    "6. Is this app a match 3 game?\n",
    "\n",
    "Compare the naive \"yes\" or \"no\" to logit bias"
   ]
  },
  {
   "cell_type": "code",
   "execution_count": 26,
   "metadata": {
    "ExecuteTime": {
     "end_time": "2023-12-01T09:41:38.455638317Z",
     "start_time": "2023-12-01T09:41:35.976237265Z"
    }
   },
   "outputs": [
    {
     "name": "stdout",
     "output_type": "stream",
     "text": [
      "You loved playing Candy Crush Saga - Start playing Candy Crush Soda Saga! More divine matching combinations and challenging game modes, brimming with purple soda and fun!\n",
      "\n",
      "This mouth-watering puzzle adventure will instantly quench your thirst for fun. Match 3 candies and blast your way through new dimensions of magical gameplay. Take on this Sodalicious Saga alone or play with friends to see who can get the highest score!\n",
      "\n",
      "Monthly season updates bring unique quests and exciting match 3 puzzles - more sugar to blast means more fun to have! Progress through the Season Pass while earning rewards and boosters to help you on your Saga.\n",
      "\n",
      "Compete against other players to see who can complete levels the fastest, or work as a team in the 4 in a Row game mode, where players work together for Sodalicious rewards!\n",
      "\n",
      "DIFFERENT GAME MODES: \n",
      "*Soda – Switch the bottles and match 3 or more candies to release purple soda\n",
      "*Frosting – Match candies to blast the ice\n",
      "*Honeycomb – Match 3 candies or more next to honeycomb to release\n",
      "Is the app for kids?\n",
      "Counter({False: 4, True: 1})\n",
      "\n",
      "-----------------\n",
      "Is the app a shopping app?\n",
      "Counter({False: 5})\n",
      "\n",
      "-----------------\n",
      "Is it a game?\n",
      "Counter({True: 5})\n",
      "\n",
      "-----------------\n",
      "Is this app a dating app?\n",
      "Counter({False: 5})\n",
      "\n",
      "-----------------\n",
      "Does this app have in-app purchases?\n",
      "Counter({True: 5})\n",
      "\n",
      "-----------------\n",
      "Is this app a match 3 game?\n",
      "Counter({True: 5})\n",
      "\n",
      "-----------------\n"
     ]
    }
   ],
   "source": [
    "app_description = df.iloc[7][\"description\"]\n",
    "print(app_description)\n",
    "\n",
    "for question in [\"Is the app for kids?\",\n",
    "                 \"Is the app a shopping app?\",\n",
    "                 \"Is it a game?\",\n",
    "                 \"Is this app a dating app?\",\n",
    "                 \"Does this app have in-app purchases?\",\n",
    "                 \"Is this app a match 3 game?\"]:\n",
    "    prompt = \"Given the following app description:\\n\\n\" + app_description + \"\\n\\n\" + question + \"\\n\\nAnswer yes or no\"\n",
    "    prompts = [prompt]*5\n",
    "    #answers = openai_ask(prompts)\n",
    "    answers = openai_yes_or_no(prompts)\n",
    "    result = collections.Counter(answers)\n",
    "    print(question)\n",
    "    print(result)\n",
    "    print(\"\\n-----------------\\n\")\n"
   ]
  },
  {
   "cell_type": "code",
   "execution_count": null,
   "outputs": [],
   "source": [],
   "metadata": {
    "collapsed": false
   }
  }
 ],
 "metadata": {
  "kernelspec": {
   "display_name": "Python 3 (ipykernel)",
   "language": "python",
   "name": "python3"
  },
  "language_info": {
   "codemirror_mode": {
    "name": "ipython",
    "version": 3
   },
   "file_extension": ".py",
   "mimetype": "text/x-python",
   "name": "python",
   "nbconvert_exporter": "python",
   "pygments_lexer": "ipython3",
   "version": "3.11.5"
  }
 },
 "nbformat": 4,
 "nbformat_minor": 4
}
