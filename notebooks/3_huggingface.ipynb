{
 "cells": [
  {
   "cell_type": "code",
   "execution_count": 2,
   "id": "4d11decd-2404-4e1c-b22b-ecdb9d63f7b6",
   "metadata": {
    "ExecuteTime": {
     "end_time": "2023-12-01T10:40:39.249459686Z",
     "start_time": "2023-12-01T10:40:38.993725558Z"
    }
   },
   "outputs": [
    {
     "name": "stdout",
     "output_type": "stream",
     "text": [
      "/home/idan/Documents/llm_workshop/data/sample_apps.parquet\n"
     ]
    }
   ],
   "source": [
    "import sys, json, re\n",
    "import pandas as pd\n",
    "from pathlib import Path\n",
    "from decouple import config\n",
    "import torch\n",
    "from transformers import AutoModelForCausalLM, AutoTokenizer, AutoModelForMaskedLM,  file_utils\n",
    "cache_dir = Path(file_utils.default_cache_path)\n",
    "\n",
    "pd.set_option('display.max_columns', 1000, 'display.width', 1000, 'display.max_rows',1000)\n",
    "\n",
    "data_dir = Path(\".\").absolute().parent/\"data\"\n",
    "ls = lambda p:print(\"\\n\".join(map(str,p.iterdir())))\n",
    "\n",
    "ls(data_dir)\n",
    "hf_model_name = \"gpt2\"\n",
    "# hf_model_name = \"mistralai/Mistral-7B-v0.1\""
   ]
  },
  {
   "cell_type": "code",
   "execution_count": 3,
   "id": "152c7c67-bfc3-4bb6-8208-dbd71024e705",
   "metadata": {
    "ExecuteTime": {
     "end_time": "2023-12-01T10:40:40.407163269Z",
     "start_time": "2023-12-01T10:40:40.329574323Z"
    }
   },
   "outputs": [
    {
     "data": {
      "text/plain": "                         bundle_id                         title                                        description                                          store_url                         category_names    ios\n24041       com.grabtaxi.passenger                 Grab Superapp  Grab is Southeast Asia’s leading superapp. We ...  https://play.google.com/store/apps/details?id=...           TRAVEL_AND_LOCAL,APPLICATION  False\n26290  com.hwqgrhhjfd.idlefastfood                    Eatventure  Are you looking to become a restaurant million...  https://play.google.com/store/apps/details?id=...                   GAME_SIMULATION,GAME  False\n49136        com.tripledot.woodoku  Woodoku - Block Puzzle Games  Woodoku: a wood block puzzle game meets a sudo...  https://play.google.com/store/apps/details?id=...                       GAME_PUZZLE,GAME  False\n17760               com.dream.dale   Dreamdale - Fairy Adventure  🌳 ONCE UPON A TIME…\\n\\nSet off on a fairy tale...  https://play.google.com/store/apps/details?id=...                 GAME_ROLE_PLAYING,GAME  False\n29752  com.king.candycrushsodasaga         Candy Crush Soda Saga  You loved playing Candy Crush Saga - Start pla...  https://play.google.com/store/apps/details?id=...                       GAME_CASUAL,GAME  False\n15820       com.creditkarma.mobile                  Credit Karma  • Check your free credit scores – Learn what a...  https://play.google.com/store/apps/details?id=...                    FINANCE,APPLICATION  False\n1021                    1105855019                  Gardenscapes  Welcome to Gardenscapes—the first hit from Pla...  https://apps.apple.com/us/app/gardenscapes/id1...  Games,Entertainment,Puzzle,Simulation   True\n5315                     530168168                    Paramount+  Welcome to A Mountain of Entertainment. Stream...  https://apps.apple.com/us/app/paramount/id5301...                          Entertainment   True\n39809  com.playrix.fishdomdd.gplay                       Fishdom  Never Fishdomed before? Take a deep breath and...  https://play.google.com/store/apps/details?id=...                       GAME_PUZZLE,GAME  False",
      "text/html": "<div>\n<style scoped>\n    .dataframe tbody tr th:only-of-type {\n        vertical-align: middle;\n    }\n\n    .dataframe tbody tr th {\n        vertical-align: top;\n    }\n\n    .dataframe thead th {\n        text-align: right;\n    }\n</style>\n<table border=\"1\" class=\"dataframe\">\n  <thead>\n    <tr style=\"text-align: right;\">\n      <th></th>\n      <th>bundle_id</th>\n      <th>title</th>\n      <th>description</th>\n      <th>store_url</th>\n      <th>category_names</th>\n      <th>ios</th>\n    </tr>\n  </thead>\n  <tbody>\n    <tr>\n      <th>24041</th>\n      <td>com.grabtaxi.passenger</td>\n      <td>Grab Superapp</td>\n      <td>Grab is Southeast Asia’s leading superapp. We ...</td>\n      <td>https://play.google.com/store/apps/details?id=...</td>\n      <td>TRAVEL_AND_LOCAL,APPLICATION</td>\n      <td>False</td>\n    </tr>\n    <tr>\n      <th>26290</th>\n      <td>com.hwqgrhhjfd.idlefastfood</td>\n      <td>Eatventure</td>\n      <td>Are you looking to become a restaurant million...</td>\n      <td>https://play.google.com/store/apps/details?id=...</td>\n      <td>GAME_SIMULATION,GAME</td>\n      <td>False</td>\n    </tr>\n    <tr>\n      <th>49136</th>\n      <td>com.tripledot.woodoku</td>\n      <td>Woodoku - Block Puzzle Games</td>\n      <td>Woodoku: a wood block puzzle game meets a sudo...</td>\n      <td>https://play.google.com/store/apps/details?id=...</td>\n      <td>GAME_PUZZLE,GAME</td>\n      <td>False</td>\n    </tr>\n    <tr>\n      <th>17760</th>\n      <td>com.dream.dale</td>\n      <td>Dreamdale - Fairy Adventure</td>\n      <td>🌳 ONCE UPON A TIME…\\n\\nSet off on a fairy tale...</td>\n      <td>https://play.google.com/store/apps/details?id=...</td>\n      <td>GAME_ROLE_PLAYING,GAME</td>\n      <td>False</td>\n    </tr>\n    <tr>\n      <th>29752</th>\n      <td>com.king.candycrushsodasaga</td>\n      <td>Candy Crush Soda Saga</td>\n      <td>You loved playing Candy Crush Saga - Start pla...</td>\n      <td>https://play.google.com/store/apps/details?id=...</td>\n      <td>GAME_CASUAL,GAME</td>\n      <td>False</td>\n    </tr>\n    <tr>\n      <th>15820</th>\n      <td>com.creditkarma.mobile</td>\n      <td>Credit Karma</td>\n      <td>• Check your free credit scores – Learn what a...</td>\n      <td>https://play.google.com/store/apps/details?id=...</td>\n      <td>FINANCE,APPLICATION</td>\n      <td>False</td>\n    </tr>\n    <tr>\n      <th>1021</th>\n      <td>1105855019</td>\n      <td>Gardenscapes</td>\n      <td>Welcome to Gardenscapes—the first hit from Pla...</td>\n      <td>https://apps.apple.com/us/app/gardenscapes/id1...</td>\n      <td>Games,Entertainment,Puzzle,Simulation</td>\n      <td>True</td>\n    </tr>\n    <tr>\n      <th>5315</th>\n      <td>530168168</td>\n      <td>Paramount+</td>\n      <td>Welcome to A Mountain of Entertainment. Stream...</td>\n      <td>https://apps.apple.com/us/app/paramount/id5301...</td>\n      <td>Entertainment</td>\n      <td>True</td>\n    </tr>\n    <tr>\n      <th>39809</th>\n      <td>com.playrix.fishdomdd.gplay</td>\n      <td>Fishdom</td>\n      <td>Never Fishdomed before? Take a deep breath and...</td>\n      <td>https://play.google.com/store/apps/details?id=...</td>\n      <td>GAME_PUZZLE,GAME</td>\n      <td>False</td>\n    </tr>\n  </tbody>\n</table>\n</div>"
     },
     "execution_count": 3,
     "metadata": {},
     "output_type": "execute_result"
    }
   ],
   "source": [
    "df = pd.read_parquet(data_dir / \"sample_apps.parquet\").sample(9)\n",
    "categories = df[\"category_names\"].str.lower().str.split(',').explode().value_counts()\n",
    "df.sample(9)"
   ]
  },
  {
   "cell_type": "markdown",
   "id": "163af0e0-bf32-4e99-9dee-a8c5c2e77d5d",
   "metadata": {},
   "source": [
    "# Verbalizers\n",
    "\n",
    "## Verbalizers as masks\n",
    "\n",
    "Most generation models we used so far are `CausalLM` trained to predict the next token.\n",
    "\n",
    "However, we can use `MaskedLM` models (that tend to be smaller) if we are looking for a completion mid-sentence"
   ]
  },
  {
   "cell_type": "code",
   "execution_count": 4,
   "id": "e47b5a1d-16b5-435c-938b-64072a582b2e",
   "metadata": {
    "ExecuteTime": {
     "end_time": "2023-12-01T10:40:50.147845168Z",
     "start_time": "2023-12-01T10:40:50.142113051Z"
    }
   },
   "outputs": [],
   "source": [
    "def masked_lm_yes_or_no(txt, model_str):\n",
    "  assert \"<mask>\" in txt\n",
    "  tokenizer = AutoTokenizer.from_pretrained(model_str)\n",
    "  r = [t for t in tokenizer.encode(\"yes or no\") if t!=tokenizer.bos_token_id and t!=tokenizer.eos_token_id]\n",
    "  yes,_,no = r\n",
    "  model = AutoModelForMaskedLM.from_pretrained(model_str)\n",
    "  # model = AutoModelForSeq2SeqLM.from_pretrained(model_str)\n",
    "  X = tokenizer.encode(txt, return_tensors=\"pt\")\n",
    "  y = model(X)\n",
    "  masked_tup = (X==tokenizer.mask_token_id).nonzero(as_tuple=True)\n",
    "  mask_idx = list(masked_tup[1].numpy())[0]\n",
    "  ret = torch.vstack(\n",
    "  [y.logits[:,mask_idx,no].reshape(-1),\n",
    "    y.logits[:,mask_idx,yes].reshape(-1)],\n",
    "  ).argmax(axis=0)\n",
    "  return ret"
   ]
  },
  {
   "cell_type": "code",
   "execution_count": 5,
   "id": "e04db40b-c89c-49a2-a880-bc60b0901869",
   "metadata": {
    "ExecuteTime": {
     "end_time": "2023-12-01T10:44:07.678470509Z",
     "start_time": "2023-12-01T10:40:56.812601904Z"
    }
   },
   "outputs": [
    {
     "data": {
      "text/plain": "Downloading tokenizer_config.json:   0%|          | 0.00/26.0 [00:00<?, ?B/s]",
      "application/vnd.jupyter.widget-view+json": {
       "version_major": 2,
       "version_minor": 0,
       "model_id": "65a143e03a7e48bb8fb87efe33142b41"
      }
     },
     "metadata": {},
     "output_type": "display_data"
    },
    {
     "data": {
      "text/plain": "Downloading config.json:   0%|          | 0.00/1.63k [00:00<?, ?B/s]",
      "application/vnd.jupyter.widget-view+json": {
       "version_major": 2,
       "version_minor": 0,
       "model_id": "607f3cac12314f5aa7cfda88607f3fd7"
      }
     },
     "metadata": {},
     "output_type": "display_data"
    },
    {
     "data": {
      "text/plain": "Downloading vocab.json:   0%|          | 0.00/899k [00:00<?, ?B/s]",
      "application/vnd.jupyter.widget-view+json": {
       "version_major": 2,
       "version_minor": 0,
       "model_id": "46c423b0519148c0a5fbcd3fea666442"
      }
     },
     "metadata": {},
     "output_type": "display_data"
    },
    {
     "data": {
      "text/plain": "Downloading merges.txt:   0%|          | 0.00/456k [00:00<?, ?B/s]",
      "application/vnd.jupyter.widget-view+json": {
       "version_major": 2,
       "version_minor": 0,
       "model_id": "94bb43f4a802411bbbe3fe6eb65eec5d"
      }
     },
     "metadata": {},
     "output_type": "display_data"
    },
    {
     "data": {
      "text/plain": "Downloading tokenizer.json:   0%|          | 0.00/1.36M [00:00<?, ?B/s]",
      "application/vnd.jupyter.widget-view+json": {
       "version_major": 2,
       "version_minor": 0,
       "model_id": "749ca25bcbbc44c5804e8010ad20adb3"
      }
     },
     "metadata": {},
     "output_type": "display_data"
    },
    {
     "data": {
      "text/plain": "Downloading pytorch_model.bin:   0%|          | 0.00/1.02G [00:00<?, ?B/s]",
      "application/vnd.jupyter.widget-view+json": {
       "version_major": 2,
       "version_minor": 0,
       "model_id": "fc06cd7611be4a2ab627730dafd92bba"
      }
     },
     "metadata": {},
     "output_type": "display_data"
    },
    {
     "data": {
      "text/plain": "tensor([0])"
     },
     "execution_count": 5,
     "metadata": {},
     "output_type": "execute_result"
    }
   ],
   "source": [
    "masked_lm_yes_or_no(\"Is an apple a fruit? answer: <mask>\", \"facebook/bart-large\")"
   ]
  },
  {
   "cell_type": "markdown",
   "id": "7ad0c659-cb98-407b-adf4-696add6361ef",
   "metadata": {},
   "source": [
    "## Verbalizers from generation models"
   ]
  },
  {
   "cell_type": "code",
   "execution_count": 9,
   "id": "55130fad-eff4-4fb4-bbcc-a79ab2a774dd",
   "metadata": {
    "ExecuteTime": {
     "end_time": "2023-12-01T10:49:00.739152818Z",
     "start_time": "2023-12-01T10:49:00.694025236Z"
    }
   },
   "outputs": [],
   "source": [
    "def causal_lm_yes_or_no(txt, model_str):\n",
    "  tokenizer = AutoTokenizer.from_pretrained(model_str)\n",
    "  r = [t for t in tokenizer.encode(\"yes or no\") if t!=tokenizer.bos_token_id and t!=tokenizer.eos_token_id]\n",
    "  yes,_,no = r\n",
    "  model = AutoModelForCausalLM.from_pretrained(model_str)\n",
    "  X = tokenizer.encode(txt, return_tensors=\"pt\")\n",
    "  y = model(X)\n",
    "  ret = torch.vstack(\n",
    "  [y.logits[:,-1,no].reshape(-1),\n",
    "    y.logits[:,-1,yes].reshape(-1)],\n",
    "  ).argmax(axis=0)\n",
    "  return ret"
   ]
  },
  {
   "cell_type": "code",
   "execution_count": 10,
   "id": "69b6f083-d7b5-46bb-af1d-980f339439ed",
   "metadata": {
    "ExecuteTime": {
     "end_time": "2023-12-01T10:49:05.275683442Z",
     "start_time": "2023-12-01T10:49:02.169478295Z"
    }
   },
   "outputs": [
    {
     "data": {
      "text/plain": "Downloading tokenizer.json:   0%|          | 0.00/1.36M [00:00<?, ?B/s]",
      "application/vnd.jupyter.widget-view+json": {
       "version_major": 2,
       "version_minor": 0,
       "model_id": "c4275504b0054fa3bf2c42862f50b80f"
      }
     },
     "metadata": {},
     "output_type": "display_data"
    },
    {
     "data": {
      "text/plain": "tensor([0])"
     },
     "execution_count": 10,
     "metadata": {},
     "output_type": "execute_result"
    }
   ],
   "source": [
    "causal_lm_yes_or_no(\"Is an apple a fruit? answer: <mask>\", \"gpt2\")"
   ]
  },
  {
   "cell_type": "markdown",
   "id": "3aa9d794-e7c6-4a18-94d1-c74d7e3a2871",
   "metadata": {},
   "source": [
    "# JSONFormer\n",
    "JSONFormer constraints the decoder to only output the most-likely token that would result in a valid json according to a predefined schema."
   ]
  },
  {
   "cell_type": "code",
   "execution_count": 15,
   "id": "b7b5dd27-45c7-46c8-98d3-c42035c615a8",
   "metadata": {
    "ExecuteTime": {
     "end_time": "2023-12-01T13:10:08.473469271Z",
     "start_time": "2023-12-01T13:09:54.744853384Z"
    }
   },
   "outputs": [
    {
     "name": "stdout",
     "output_type": "stream",
     "text": [
      "{'name': 'Candy Crush', 'age': 0.5, 'is_for_kids': False, 'categories': ['boolean', 'boolean']}\n"
     ]
    }
   ],
   "source": [
    "from jsonformer import Jsonformer\n",
    "\n",
    "model = AutoModelForCausalLM.from_pretrained(hf_model_name)\n",
    "tokenizer = AutoTokenizer.from_pretrained(hf_model_name)\n",
    "\n",
    "json_schema = {\n",
    "    \"type\": \"object\",\n",
    "    \"properties\": {\n",
    "        \"name\": {\"type\": \"string\"},\n",
    "        \"age\": {\"type\": \"number\"},\n",
    "        \"is_for_kids\": {\"type\": \"boolean\"},\n",
    "        \"categories\": {\n",
    "            \"type\": \"array\",\n",
    "            \"items\": {\"type\": \"string\"}\n",
    "        }\n",
    "    }\n",
    "}\n",
    "\n",
    "prompt = \"Please describe 'Candy crush' with the following schema\"\n",
    "jsonformer = Jsonformer(model, tokenizer, json_schema, prompt)\n",
    "generated_data = jsonformer()\n",
    "\n",
    "print(generated_data)"
   ]
  },
  {
   "cell_type": "markdown",
   "id": "36e5c126-a060-4c3c-b5fb-e2e4ea147778",
   "metadata": {},
   "source": [
    "# Guidance\n",
    "Guidance is a very popular library for decoder constraints, that is much more \"user-friendly\" than JSONFormer."
   ]
  },
  {
   "cell_type": "code",
   "execution_count": 6,
   "id": "9135c8bb-e269-482b-8c24-79c922088e81",
   "metadata": {
    "ExecuteTime": {
     "end_time": "2023-12-01T10:45:55.349707164Z",
     "start_time": "2023-12-01T10:44:07.678279596Z"
    }
   },
   "outputs": [
    {
     "data": {
      "text/plain": "Downloading config.json:   0%|          | 0.00/665 [00:00<?, ?B/s]",
      "application/vnd.jupyter.widget-view+json": {
       "version_major": 2,
       "version_minor": 0,
       "model_id": "0f54623a489e4401915e59af1f228245"
      }
     },
     "metadata": {},
     "output_type": "display_data"
    },
    {
     "data": {
      "text/plain": "Downloading vocab.json:   0%|          | 0.00/1.04M [00:00<?, ?B/s]",
      "application/vnd.jupyter.widget-view+json": {
       "version_major": 2,
       "version_minor": 0,
       "model_id": "4a1f757a24344cce9a0f6efdd5028836"
      }
     },
     "metadata": {},
     "output_type": "display_data"
    },
    {
     "data": {
      "text/plain": "Downloading merges.txt:   0%|          | 0.00/456k [00:00<?, ?B/s]",
      "application/vnd.jupyter.widget-view+json": {
       "version_major": 2,
       "version_minor": 0,
       "model_id": "cf825c626d28424a8568dcc5ff96b3ce"
      }
     },
     "metadata": {},
     "output_type": "display_data"
    },
    {
     "data": {
      "text/plain": "Downloading model.safetensors:   0%|          | 0.00/548M [00:00<?, ?B/s]",
      "application/vnd.jupyter.widget-view+json": {
       "version_major": 2,
       "version_minor": 0,
       "model_id": "41c5d611a42140d88b8864f3dc293697"
      }
     },
     "metadata": {},
     "output_type": "display_data"
    },
    {
     "data": {
      "text/plain": "Downloading generation_config.json:   0%|          | 0.00/124 [00:00<?, ?B/s]",
      "application/vnd.jupyter.widget-view+json": {
       "version_major": 2,
       "version_minor": 0,
       "model_id": "1a9bd4cf5b2b4957bc0551c6c5d0ae49"
      }
     },
     "metadata": {},
     "output_type": "display_data"
    }
   ],
   "source": [
    "from guidance import models, select, gen\n",
    "llm = models.Transformers(hf_model_name)"
   ]
  },
  {
   "cell_type": "code",
   "execution_count": 8,
   "id": "7e0287e7-07c7-4b4c-b8b8-d0c25f167968",
   "metadata": {},
   "outputs": [
    {
     "data": {
      "text/plain": "<guidance.models.transformers._transformers.Transformers at 0x7f6284663190>",
      "text/html": "<pre style='margin: 0px; padding: 0px; padding-left: 8px; margin-left: -8px; border-radius: 0px; border-left: 1px solid rgba(127, 127, 127, 0.2); white-space: pre-wrap; font-family: ColfaxAI, Arial; font-size: 15px; line-height: 23px;'><span style='background-color: rgba(0, 165, 0, 0.15); border-radius: 3px;' title='0.0'>\n</span><span style='background-color: rgba(0, 165, 0, 0.15); border-radius: 3px;' title='0.0'>The</span><span style='background-color: rgba(0, 165, 0, 0.15); border-radius: 3px;' title='0.0'> first</span><span style='background-color: rgba(0, 165, 0, 0.15); border-radius: 3px;' title='0.0'> time</span><span style='background-color: rgba(0, 165, 0, 0.15); border-radius: 3px;' title='0.0'> I</span><span style='background-color: rgba(0, 165, 0, 0.15); border-radius: 3px;' title='0.0'> saw</span><span style='background-color: rgba(0, 165, 0, 0.15); border-radius: 3px;' title='0.0'> the</span><span style='background-color: rgba(0, 165, 0, 0.15); border-radius: 3px;' title='0.0'> new</span><span style='background-color: rgba(0, 165, 0, 0.15); border-radius: 3px;' title='0.0'> version</span><span style='background-color: rgba(0, 165, 0, 0.15); border-radius: 3px;' title='0.0'> of</span></pre>"
     },
     "execution_count": 8,
     "metadata": {},
     "output_type": "execute_result"
    }
   ],
   "source": [
    "prompt = \"Please categorize the mobile app 'slotomania'\"\n",
    "llm + gen(prompt, max_tokens=10)"
   ]
  },
  {
   "cell_type": "code",
   "execution_count": 26,
   "id": "55167518-5941-42b6-8919-f0bd9e9874fb",
   "metadata": {},
   "outputs": [
    {
     "data": {
      "text/html": [
       "<pre style='margin: 0px; padding: 0px; padding-left: 8px; margin-left: -8px; border-radius: 0px; border-left: 1px solid rgba(127, 127, 127, 0.2); white-space: pre-wrap; font-family: ColfaxAI, Arial; font-size: 15px; line-height: 23px;'>Solitaire Grand Harvest is <span style='background-color: rgba(0, 165, 0, 0.15); border-radius: 3px;' title='0.0'>a</span>pplication</pre>"
      ],
      "text/plain": [
       "<guidance.models.transformers._transformers.Transformers at 0x2b9a8f150>"
      ]
     },
     "execution_count": 26,
     "metadata": {},
     "output_type": "execute_result"
    }
   ],
   "source": [
    "app = \"Solitaire Grand Harvest\"\n",
    "\n",
    "llm + f'{app} is ' + select(list(categories.index))"
   ]
  },
  {
   "cell_type": "markdown",
   "id": "daeb6a9f-a1da-4567-b7c2-8d0d31cd6502",
   "metadata": {},
   "source": [
    "# Exercise 3\n",
    "Answer the questions in exercise 1 with `Mistral-7B`"
   ]
  },
  {
   "cell_type": "code",
   "execution_count": null,
   "id": "47cdcc12-8d76-4b9f-98f0-18ff20beae06",
   "metadata": {},
   "outputs": [],
   "source": []
  }
 ],
 "metadata": {
  "kernelspec": {
   "display_name": "Python 3 (ipykernel)",
   "language": "python",
   "name": "python3"
  },
  "language_info": {
   "codemirror_mode": {
    "name": "ipython",
    "version": 3
   },
   "file_extension": ".py",
   "mimetype": "text/x-python",
   "name": "python",
   "nbconvert_exporter": "python",
   "pygments_lexer": "ipython3",
   "version": "3.11.5"
  }
 },
 "nbformat": 4,
 "nbformat_minor": 5
}
